{
 "cells": [
  {
   "cell_type": "code",
   "execution_count": 1,
   "metadata": {},
   "outputs": [],
   "source": [
    "import pandas as pd\n",
    "import numpy as np\n",
    "np.set_printoptions(suppress=True)\n",
    "import matplotlib.pyplot as plt"
   ]
  },
  {
   "cell_type": "code",
   "execution_count": 2,
   "metadata": {},
   "outputs": [],
   "source": [
    "df = pd.read_csv(\"salaries_1985to2018.csv\")"
   ]
  },
  {
   "cell_type": "code",
   "execution_count": 3,
   "metadata": {},
   "outputs": [
    {
     "data": {
      "text/html": [
       "<div>\n",
       "<style scoped>\n",
       "    .dataframe tbody tr th:only-of-type {\n",
       "        vertical-align: middle;\n",
       "    }\n",
       "\n",
       "    .dataframe tbody tr th {\n",
       "        vertical-align: top;\n",
       "    }\n",
       "\n",
       "    .dataframe thead th {\n",
       "        text-align: right;\n",
       "    }\n",
       "</style>\n",
       "<table border=\"1\" class=\"dataframe\">\n",
       "  <thead>\n",
       "    <tr style=\"text-align: right;\">\n",
       "      <th></th>\n",
       "      <th>league</th>\n",
       "      <th>player_id</th>\n",
       "      <th>salary</th>\n",
       "      <th>season</th>\n",
       "      <th>season_end</th>\n",
       "      <th>season_start</th>\n",
       "      <th>team</th>\n",
       "    </tr>\n",
       "  </thead>\n",
       "  <tbody>\n",
       "    <tr>\n",
       "      <th>0</th>\n",
       "      <td>NBA</td>\n",
       "      <td>sasseja01</td>\n",
       "      <td>2706</td>\n",
       "      <td>1999-00</td>\n",
       "      <td>2000</td>\n",
       "      <td>1999</td>\n",
       "      <td>Dallas Mavericks</td>\n",
       "    </tr>\n",
       "    <tr>\n",
       "      <th>1</th>\n",
       "      <td>NBA</td>\n",
       "      <td>ollieke01</td>\n",
       "      <td>2853</td>\n",
       "      <td>1999-00</td>\n",
       "      <td>2000</td>\n",
       "      <td>1999</td>\n",
       "      <td>Dallas Mavericks</td>\n",
       "    </tr>\n",
       "    <tr>\n",
       "      <th>2</th>\n",
       "      <td>NBA</td>\n",
       "      <td>bowmair01</td>\n",
       "      <td>4529</td>\n",
       "      <td>1999-00</td>\n",
       "      <td>2000</td>\n",
       "      <td>1999</td>\n",
       "      <td>Dallas Mavericks</td>\n",
       "    </tr>\n",
       "    <tr>\n",
       "      <th>3</th>\n",
       "      <td>NBA</td>\n",
       "      <td>goodrst01</td>\n",
       "      <td>4529</td>\n",
       "      <td>1999-00</td>\n",
       "      <td>2000</td>\n",
       "      <td>1999</td>\n",
       "      <td>Philadelphia 76ers</td>\n",
       "    </tr>\n",
       "    <tr>\n",
       "      <th>4</th>\n",
       "      <td>NBA</td>\n",
       "      <td>wintetr01</td>\n",
       "      <td>4529</td>\n",
       "      <td>1999-00</td>\n",
       "      <td>2000</td>\n",
       "      <td>1999</td>\n",
       "      <td>Minnesota Timberwolves</td>\n",
       "    </tr>\n",
       "  </tbody>\n",
       "</table>\n",
       "</div>"
      ],
      "text/plain": [
       "  league  player_id  salary   season  season_end  season_start  \\\n",
       "0    NBA  sasseja01    2706  1999-00        2000          1999   \n",
       "1    NBA  ollieke01    2853  1999-00        2000          1999   \n",
       "2    NBA  bowmair01    4529  1999-00        2000          1999   \n",
       "3    NBA  goodrst01    4529  1999-00        2000          1999   \n",
       "4    NBA  wintetr01    4529  1999-00        2000          1999   \n",
       "\n",
       "                     team  \n",
       "0        Dallas Mavericks  \n",
       "1        Dallas Mavericks  \n",
       "2        Dallas Mavericks  \n",
       "3      Philadelphia 76ers  \n",
       "4  Minnesota Timberwolves  "
      ]
     },
     "execution_count": 3,
     "metadata": {},
     "output_type": "execute_result"
    }
   ],
   "source": [
    "df.head()"
   ]
  },
  {
   "cell_type": "code",
   "execution_count": 4,
   "metadata": {},
   "outputs": [
    {
     "data": {
      "text/html": [
       "<div>\n",
       "<style scoped>\n",
       "    .dataframe tbody tr th:only-of-type {\n",
       "        vertical-align: middle;\n",
       "    }\n",
       "\n",
       "    .dataframe tbody tr th {\n",
       "        vertical-align: top;\n",
       "    }\n",
       "\n",
       "    .dataframe thead th {\n",
       "        text-align: right;\n",
       "    }\n",
       "</style>\n",
       "<table border=\"1\" class=\"dataframe\">\n",
       "  <thead>\n",
       "    <tr style=\"text-align: right;\">\n",
       "      <th></th>\n",
       "      <th>salary</th>\n",
       "    </tr>\n",
       "    <tr>\n",
       "      <th>season</th>\n",
       "      <th></th>\n",
       "    </tr>\n",
       "  </thead>\n",
       "  <tbody>\n",
       "    <tr>\n",
       "      <th>1984-85</th>\n",
       "      <td>398804.761905</td>\n",
       "    </tr>\n",
       "    <tr>\n",
       "      <th>1985-86</th>\n",
       "      <td>370103.395270</td>\n",
       "    </tr>\n",
       "    <tr>\n",
       "      <th>1986-87</th>\n",
       "      <td>543033.325000</td>\n",
       "    </tr>\n",
       "    <tr>\n",
       "      <th>1987-88</th>\n",
       "      <td>459204.313531</td>\n",
       "    </tr>\n",
       "    <tr>\n",
       "      <th>1988-89</th>\n",
       "      <td>528010.975078</td>\n",
       "    </tr>\n",
       "  </tbody>\n",
       "</table>\n",
       "</div>"
      ],
      "text/plain": [
       "                salary\n",
       "season                \n",
       "1984-85  398804.761905\n",
       "1985-86  370103.395270\n",
       "1986-87  543033.325000\n",
       "1987-88  459204.313531\n",
       "1988-89  528010.975078"
      ]
     },
     "execution_count": 4,
     "metadata": {},
     "output_type": "execute_result"
    }
   ],
   "source": [
    "year_salaries = df.pivot_table('salary',index='season',aggfunc=np.mean)\n",
    "year_salaries.head()"
   ]
  },
  {
   "cell_type": "code",
   "execution_count": 5,
   "metadata": {},
   "outputs": [
    {
     "data": {
      "text/html": [
       "<div>\n",
       "<style scoped>\n",
       "    .dataframe tbody tr th:only-of-type {\n",
       "        vertical-align: middle;\n",
       "    }\n",
       "\n",
       "    .dataframe tbody tr th {\n",
       "        vertical-align: top;\n",
       "    }\n",
       "\n",
       "    .dataframe thead th {\n",
       "        text-align: right;\n",
       "    }\n",
       "</style>\n",
       "<table border=\"1\" class=\"dataframe\">\n",
       "  <thead>\n",
       "    <tr style=\"text-align: right;\">\n",
       "      <th>team</th>\n",
       "      <th>Atlanta Hawks</th>\n",
       "      <th>Boston Celtics</th>\n",
       "      <th>Brooklyn Nets</th>\n",
       "      <th>Charlotte Bobcats</th>\n",
       "      <th>Charlotte Hornets</th>\n",
       "      <th>Chicago Bulls</th>\n",
       "      <th>Cleveland Cavaliers</th>\n",
       "      <th>Dallas Mavericks</th>\n",
       "      <th>Denver Nuggets</th>\n",
       "      <th>Detroit Pistons</th>\n",
       "      <th>...</th>\n",
       "      <th>Phoenix Suns</th>\n",
       "      <th>Portland Trail Blazers</th>\n",
       "      <th>Sacramento Kings</th>\n",
       "      <th>San Antonio Spurs</th>\n",
       "      <th>Seattle SuperSonics</th>\n",
       "      <th>Toronto Raptors</th>\n",
       "      <th>Utah Jazz</th>\n",
       "      <th>Vancouver Grizzlies</th>\n",
       "      <th>Washington Bullets</th>\n",
       "      <th>Washington Wizards</th>\n",
       "    </tr>\n",
       "    <tr>\n",
       "      <th>season</th>\n",
       "      <th></th>\n",
       "      <th></th>\n",
       "      <th></th>\n",
       "      <th></th>\n",
       "      <th></th>\n",
       "      <th></th>\n",
       "      <th></th>\n",
       "      <th></th>\n",
       "      <th></th>\n",
       "      <th></th>\n",
       "      <th></th>\n",
       "      <th></th>\n",
       "      <th></th>\n",
       "      <th></th>\n",
       "      <th></th>\n",
       "      <th></th>\n",
       "      <th></th>\n",
       "      <th></th>\n",
       "      <th></th>\n",
       "      <th></th>\n",
       "      <th></th>\n",
       "    </tr>\n",
       "  </thead>\n",
       "  <tbody>\n",
       "    <tr>\n",
       "      <th>1984-85</th>\n",
       "      <td>319333.333333</td>\n",
       "      <td>557636.363636</td>\n",
       "      <td>NaN</td>\n",
       "      <td>NaN</td>\n",
       "      <td>NaN</td>\n",
       "      <td>397400.000000</td>\n",
       "      <td>288000.000000</td>\n",
       "      <td>306111.111111</td>\n",
       "      <td>367750.000000</td>\n",
       "      <td>379083.333333</td>\n",
       "      <td>...</td>\n",
       "      <td>341000.000000</td>\n",
       "      <td>410833.333333</td>\n",
       "      <td>NaN</td>\n",
       "      <td>360444.444444</td>\n",
       "      <td>471428.571429</td>\n",
       "      <td>NaN</td>\n",
       "      <td>258000.000000</td>\n",
       "      <td>NaN</td>\n",
       "      <td>344375.000000</td>\n",
       "      <td>NaN</td>\n",
       "    </tr>\n",
       "    <tr>\n",
       "      <th>1985-86</th>\n",
       "      <td>282403.846154</td>\n",
       "      <td>546666.666667</td>\n",
       "      <td>NaN</td>\n",
       "      <td>NaN</td>\n",
       "      <td>NaN</td>\n",
       "      <td>345076.923077</td>\n",
       "      <td>280047.571429</td>\n",
       "      <td>337695.500000</td>\n",
       "      <td>285458.333333</td>\n",
       "      <td>383638.833333</td>\n",
       "      <td>...</td>\n",
       "      <td>299250.000000</td>\n",
       "      <td>319250.000000</td>\n",
       "      <td>337666.666667</td>\n",
       "      <td>311757.384615</td>\n",
       "      <td>437179.461538</td>\n",
       "      <td>NaN</td>\n",
       "      <td>242875.000000</td>\n",
       "      <td>NaN</td>\n",
       "      <td>337029.461538</td>\n",
       "      <td>NaN</td>\n",
       "    </tr>\n",
       "    <tr>\n",
       "      <th>1986-87</th>\n",
       "      <td>715000.000000</td>\n",
       "      <td>808333.333333</td>\n",
       "      <td>NaN</td>\n",
       "      <td>NaN</td>\n",
       "      <td>NaN</td>\n",
       "      <td>710000.000000</td>\n",
       "      <td>300833.000000</td>\n",
       "      <td>500000.000000</td>\n",
       "      <td>75000.000000</td>\n",
       "      <td>454133.400000</td>\n",
       "      <td>...</td>\n",
       "      <td>110000.000000</td>\n",
       "      <td>NaN</td>\n",
       "      <td>NaN</td>\n",
       "      <td>307500.000000</td>\n",
       "      <td>NaN</td>\n",
       "      <td>NaN</td>\n",
       "      <td>345000.000000</td>\n",
       "      <td>NaN</td>\n",
       "      <td>150000.000000</td>\n",
       "      <td>NaN</td>\n",
       "    </tr>\n",
       "    <tr>\n",
       "      <th>1987-88</th>\n",
       "      <td>506476.923077</td>\n",
       "      <td>714141.000000</td>\n",
       "      <td>NaN</td>\n",
       "      <td>NaN</td>\n",
       "      <td>NaN</td>\n",
       "      <td>417860.833333</td>\n",
       "      <td>329393.461538</td>\n",
       "      <td>404628.000000</td>\n",
       "      <td>453676.230769</td>\n",
       "      <td>492125.000000</td>\n",
       "      <td>...</td>\n",
       "      <td>346806.666667</td>\n",
       "      <td>370741.857143</td>\n",
       "      <td>444307.692308</td>\n",
       "      <td>349892.857143</td>\n",
       "      <td>424666.666667</td>\n",
       "      <td>NaN</td>\n",
       "      <td>481666.666667</td>\n",
       "      <td>NaN</td>\n",
       "      <td>487884.615385</td>\n",
       "      <td>NaN</td>\n",
       "    </tr>\n",
       "    <tr>\n",
       "      <th>1988-89</th>\n",
       "      <td>527321.428571</td>\n",
       "      <td>652217.923077</td>\n",
       "      <td>NaN</td>\n",
       "      <td>NaN</td>\n",
       "      <td>340714.285714</td>\n",
       "      <td>577916.666667</td>\n",
       "      <td>513615.384615</td>\n",
       "      <td>467283.333333</td>\n",
       "      <td>499684.400000</td>\n",
       "      <td>579269.230769</td>\n",
       "      <td>...</td>\n",
       "      <td>457428.571429</td>\n",
       "      <td>561300.000000</td>\n",
       "      <td>469653.846154</td>\n",
       "      <td>466857.142857</td>\n",
       "      <td>519750.000000</td>\n",
       "      <td>NaN</td>\n",
       "      <td>459166.666667</td>\n",
       "      <td>NaN</td>\n",
       "      <td>400888.833333</td>\n",
       "      <td>NaN</td>\n",
       "    </tr>\n",
       "  </tbody>\n",
       "</table>\n",
       "<p>5 rows × 38 columns</p>\n",
       "</div>"
      ],
      "text/plain": [
       "team     Atlanta Hawks  Boston Celtics  Brooklyn Nets  Charlotte Bobcats  \\\n",
       "season                                                                     \n",
       "1984-85  319333.333333   557636.363636            NaN                NaN   \n",
       "1985-86  282403.846154   546666.666667            NaN                NaN   \n",
       "1986-87  715000.000000   808333.333333            NaN                NaN   \n",
       "1987-88  506476.923077   714141.000000            NaN                NaN   \n",
       "1988-89  527321.428571   652217.923077            NaN                NaN   \n",
       "\n",
       "team     Charlotte Hornets  Chicago Bulls  Cleveland Cavaliers  \\\n",
       "season                                                           \n",
       "1984-85                NaN  397400.000000        288000.000000   \n",
       "1985-86                NaN  345076.923077        280047.571429   \n",
       "1986-87                NaN  710000.000000        300833.000000   \n",
       "1987-88                NaN  417860.833333        329393.461538   \n",
       "1988-89      340714.285714  577916.666667        513615.384615   \n",
       "\n",
       "team     Dallas Mavericks  Denver Nuggets  Detroit Pistons  ...  \\\n",
       "season                                                      ...   \n",
       "1984-85     306111.111111   367750.000000    379083.333333  ...   \n",
       "1985-86     337695.500000   285458.333333    383638.833333  ...   \n",
       "1986-87     500000.000000    75000.000000    454133.400000  ...   \n",
       "1987-88     404628.000000   453676.230769    492125.000000  ...   \n",
       "1988-89     467283.333333   499684.400000    579269.230769  ...   \n",
       "\n",
       "team      Phoenix Suns  Portland Trail Blazers  Sacramento Kings  \\\n",
       "season                                                             \n",
       "1984-85  341000.000000           410833.333333               NaN   \n",
       "1985-86  299250.000000           319250.000000     337666.666667   \n",
       "1986-87  110000.000000                     NaN               NaN   \n",
       "1987-88  346806.666667           370741.857143     444307.692308   \n",
       "1988-89  457428.571429           561300.000000     469653.846154   \n",
       "\n",
       "team     San Antonio Spurs  Seattle SuperSonics  Toronto Raptors  \\\n",
       "season                                                             \n",
       "1984-85      360444.444444        471428.571429              NaN   \n",
       "1985-86      311757.384615        437179.461538              NaN   \n",
       "1986-87      307500.000000                  NaN              NaN   \n",
       "1987-88      349892.857143        424666.666667              NaN   \n",
       "1988-89      466857.142857        519750.000000              NaN   \n",
       "\n",
       "team         Utah Jazz  Vancouver Grizzlies  Washington Bullets  \\\n",
       "season                                                            \n",
       "1984-85  258000.000000                  NaN       344375.000000   \n",
       "1985-86  242875.000000                  NaN       337029.461538   \n",
       "1986-87  345000.000000                  NaN       150000.000000   \n",
       "1987-88  481666.666667                  NaN       487884.615385   \n",
       "1988-89  459166.666667                  NaN       400888.833333   \n",
       "\n",
       "team     Washington Wizards  \n",
       "season                       \n",
       "1984-85                 NaN  \n",
       "1985-86                 NaN  \n",
       "1986-87                 NaN  \n",
       "1987-88                 NaN  \n",
       "1988-89                 NaN  \n",
       "\n",
       "[5 rows x 38 columns]"
      ]
     },
     "execution_count": 5,
     "metadata": {},
     "output_type": "execute_result"
    }
   ],
   "source": [
    "team_salaries = df.pivot_table('salary',index='season',columns='team',aggfunc=np.mean)\n",
    "team_salaries.head()"
   ]
  },
  {
   "cell_type": "code",
   "execution_count": 6,
   "metadata": {},
   "outputs": [
    {
     "data": {
      "text/plain": [
       "team\n",
       "Atlanta Hawks                        2.598188e+06\n",
       "Boston Celtics                       2.429099e+06\n",
       "Brooklyn Nets                                 NaN\n",
       "Charlotte Bobcats                             NaN\n",
       "Charlotte Hornets                    2.269513e+06\n",
       "Chicago Bulls                        1.174451e+06\n",
       "Cleveland Cavaliers                  2.738116e+06\n",
       "Dallas Mavericks                     1.818841e+06\n",
       "Denver Nuggets                       2.880388e+06\n",
       "Detroit Pistons                      2.217990e+06\n",
       "Golden State Warriors                1.571023e+06\n",
       "Houston Rockets                      2.489017e+06\n",
       "Indiana Pacers                       2.715086e+06\n",
       "Kansas City Kings                             NaN\n",
       "Los Angeles Clippers                 1.405584e+06\n",
       "Los Angeles Lakers                   3.056585e+06\n",
       "Memphis Grizzlies                             NaN\n",
       "Miami Heat                           2.377117e+06\n",
       "Milwaukee Bucks                      2.792512e+06\n",
       "Minnesota Timberwolves               2.369015e+06\n",
       "New Jersey Nets                      3.327841e+06\n",
       "New Orleans Hornets                           NaN\n",
       "New Orleans Pelicans                          NaN\n",
       "New Orleans/Oklahoma City Hornets             NaN\n",
       "New York Knicks                      4.458800e+06\n",
       "Oklahoma City Thunder                         NaN\n",
       "Orlando Magic                        1.385893e+06\n",
       "Philadelphia 76ers                   2.310031e+06\n",
       "Phoenix Suns                         2.736414e+06\n",
       "Portland Trail Blazers               4.900914e+06\n",
       "Sacramento Kings                     2.507070e+06\n",
       "San Antonio Spurs                    2.835320e+06\n",
       "Seattle SuperSonics                  2.550594e+06\n",
       "Toronto Raptors                      2.315355e+06\n",
       "Utah Jazz                            3.354448e+06\n",
       "Vancouver Grizzlies                  2.339543e+06\n",
       "Washington Bullets                            NaN\n",
       "Washington Wizards                   2.955247e+06\n",
       "Name: 1999-00, dtype: float64"
      ]
     },
     "execution_count": 6,
     "metadata": {},
     "output_type": "execute_result"
    }
   ],
   "source": [
    "team_salaries.loc[\"1999-00\"]"
   ]
  },
  {
   "cell_type": "code",
   "execution_count": 7,
   "metadata": {},
   "outputs": [
    {
     "data": {
      "text/plain": [
       "season\n",
       "1984-85    4.714286e+05\n",
       "1985-86    4.371795e+05\n",
       "1986-87             NaN\n",
       "1987-88    4.246667e+05\n",
       "1988-89    5.197500e+05\n",
       "1989-90    1.500000e+06\n",
       "1990-91    8.146154e+05\n",
       "1991-92    9.505714e+05\n",
       "1992-93    1.002357e+06\n",
       "1993-94    1.451545e+06\n",
       "1994-95    1.719536e+06\n",
       "1995-96    1.988615e+06\n",
       "1996-97    2.020100e+06\n",
       "1997-98    2.211304e+06\n",
       "1998-99    1.900818e+06\n",
       "1999-00    2.550594e+06\n",
       "2000-01    3.681333e+06\n",
       "2001-02    3.037116e+06\n",
       "2002-03    4.089806e+06\n",
       "2003-04    3.489832e+06\n",
       "2004-05    3.588087e+06\n",
       "2005-06    3.078336e+06\n",
       "2006-07    3.352167e+06\n",
       "2007-08    3.803837e+06\n",
       "2008-09             NaN\n",
       "2009-10             NaN\n",
       "2010-11             NaN\n",
       "2011-12             NaN\n",
       "2012-13             NaN\n",
       "2013-14             NaN\n",
       "2014-15             NaN\n",
       "2015-16             NaN\n",
       "2016-17             NaN\n",
       "2017-18             NaN\n",
       "Name: Seattle SuperSonics, dtype: float64"
      ]
     },
     "execution_count": 7,
     "metadata": {},
     "output_type": "execute_result"
    }
   ],
   "source": [
    "team_salaries['Seattle SuperSonics']"
   ]
  },
  {
   "cell_type": "code",
   "execution_count": 8,
   "metadata": {},
   "outputs": [
    {
     "data": {
      "text/plain": [
       "Text(0, 0.5, '$ Amount')"
      ]
     },
     "execution_count": 8,
     "metadata": {},
     "output_type": "execute_result"
    },
    {
     "data": {
      "image/png": "[encoded data removed]",
      "text/plain": [
       "<Figure size 432x288 with 1 Axes>"
      ]
     },
     "metadata": {
      "needs_background": "light"
     },
     "output_type": "display_data"
    }
   ],
   "source": [
    "plt.plot(year_salaries['salary'],'o',color='green')\n",
    "plt.xticks(range(34),range(1984,2018),rotation=90)\n",
    "plt.title('Average Salaries')\n",
    "plt.xlabel('Year')\n",
    "plt.ylabel('$ Amount')"
   ]
  },
  {
   "cell_type": "code",
   "execution_count": 9,
   "metadata": {},
   "outputs": [
    {
     "data": {
      "text/plain": [
       "<BarContainer object of 34 artists>"
      ]
     },
     "execution_count": 9,
     "metadata": {},
     "output_type": "execute_result"
    },
    {
     "data": {
      "image/png": "[encoded data removed]",
      "text/plain": [
       "<Figure size 432x288 with 1 Axes>"
      ]
     },
     "metadata": {
      "needs_background": "light"
     },
     "output_type": "display_data"
    }
   ],
   "source": [
    "plt.bar(team_salaries['Los Angeles Lakers'],team_salaries['Utah Jazz'])"
   ]
  },
  {
   "cell_type": "code",
   "execution_count": 11,
   "metadata": {},
   "outputs": [
    {
     "data": {
      "text/plain": [
       "<matplotlib.legend.Legend at 0x7f29b843cd10>"
      ]
     },
     "execution_count": 11,
     "metadata": {},
     "output_type": "execute_result"
    },
    {
     "data": {
      "image/png": "[encoded data removed]",
      "text/plain": [
       "<Figure size 432x288 with 1 Axes>"
      ]
     },
     "metadata": {
      "needs_background": "light"
     },
     "output_type": "display_data"
    }
   ],
   "source": [
    "plt.bar([4*x for x in range(34)],team_salaries['Los Angeles Lakers'],color='gold',label='Lakers')\n",
    "plt.bar([4*x+1 for x in range(34)],team_salaries['Utah Jazz'],color='blue',label='Jazz')\n",
    "plt.xticks([4*x for x in range(34)],range(1984,2018),rotation=90)\n",
    "plt.legend()"
   ]
  },
  {
   "cell_type": "code",
   "execution_count": null,
   "metadata": {},
   "outputs": [],
   "source": []
  }
 ],
 "metadata": {
  "kernelspec": {
   "display_name": "Python 3",
   "language": "python",
   "name": "python3"
  },
  "language_info": {
   "codemirror_mode": {
    "name": "ipython",
    "version": 3
   },
   "file_extension": ".py",
   "mimetype": "text/x-python",
   "name": "python",
   "nbconvert_exporter": "python",
   "pygments_lexer": "ipython3",
   "version": "3.7.8"
  }
 },
 "nbformat": 4,
 "nbformat_minor": 4
}
